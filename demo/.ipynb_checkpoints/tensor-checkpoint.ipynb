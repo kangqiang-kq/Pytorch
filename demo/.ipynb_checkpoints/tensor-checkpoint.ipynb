{
 "cells": [
  {
   "cell_type": "code",
   "execution_count": 1,
   "id": "7430e38a",
   "metadata": {},
   "outputs": [],
   "source": [
    "import torch\n",
    "import numpy as np\n"
   ]
  },
  {
   "cell_type": "code",
   "execution_count": 2,
   "id": "8f92d064",
   "metadata": {},
   "outputs": [],
   "source": [
    "t64 = torch.tensor([1.3,2,3]) # 自动判断\n",
    "t32 = torch.FloatTensor([1,2,3])"
   ]
  },
  {
   "cell_type": "code",
   "execution_count": 3,
   "id": "51d61d43",
   "metadata": {},
   "outputs": [
    {
     "data": {
      "text/plain": [
       "tensor([1.3000, 2.0000, 3.0000])"
      ]
     },
     "execution_count": 3,
     "metadata": {},
     "output_type": "execute_result"
    }
   ],
   "source": [
    "t64"
   ]
  },
  {
   "cell_type": "code",
   "execution_count": 4,
   "id": "9db2a784",
   "metadata": {},
   "outputs": [
    {
     "data": {
      "text/plain": [
       "torch.float32"
      ]
     },
     "execution_count": 4,
     "metadata": {},
     "output_type": "execute_result"
    }
   ],
   "source": [
    "t64.dtype # in 64"
   ]
  },
  {
   "cell_type": "code",
   "execution_count": 5,
   "id": "d0aaecea",
   "metadata": {},
   "outputs": [
    {
     "data": {
      "text/plain": [
       "torch.float32"
      ]
     },
     "execution_count": 5,
     "metadata": {},
     "output_type": "execute_result"
    }
   ],
   "source": [
    "t32.dtype # float 32"
   ]
  },
  {
   "cell_type": "code",
   "execution_count": 6,
   "id": "0d5df3e7",
   "metadata": {},
   "outputs": [],
   "source": [
    "np_array = np.arange(12).reshape(3,4) "
   ]
  },
  {
   "cell_type": "code",
   "execution_count": 7,
   "id": "642f01c3",
   "metadata": {},
   "outputs": [
    {
     "data": {
      "text/plain": [
       "array([[ 0,  1,  2,  3],\n",
       "       [ 4,  5,  6,  7],\n",
       "       [ 8,  9, 10, 11]])"
      ]
     },
     "execution_count": 7,
     "metadata": {},
     "output_type": "execute_result"
    }
   ],
   "source": [
    "np_array"
   ]
  },
  {
   "cell_type": "code",
   "execution_count": 8,
   "id": "66ba8b7b",
   "metadata": {},
   "outputs": [],
   "source": [
    "t = torch.from_numpy(np_array)"
   ]
  },
  {
   "cell_type": "code",
   "execution_count": 9,
   "id": "1f091cdc",
   "metadata": {},
   "outputs": [
    {
     "data": {
      "text/plain": [
       "tensor([[ 0,  1,  2,  3],\n",
       "        [ 4,  5,  6,  7],\n",
       "        [ 8,  9, 10, 11]], dtype=torch.int32)"
      ]
     },
     "execution_count": 9,
     "metadata": {},
     "output_type": "execute_result"
    }
   ],
   "source": [
    "t"
   ]
  },
  {
   "cell_type": "code",
   "execution_count": 10,
   "id": "c3c4c557",
   "metadata": {},
   "outputs": [],
   "source": [
    "t = torch.tensor([1,2,3],dtype = torch.float32)"
   ]
  },
  {
   "cell_type": "code",
   "execution_count": 11,
   "id": "bcdbd39e",
   "metadata": {},
   "outputs": [
    {
     "data": {
      "text/plain": [
       "(tensor([1., 2., 3.]), torch.float32)"
      ]
     },
     "execution_count": 11,
     "metadata": {},
     "output_type": "execute_result"
    }
   ],
   "source": [
    "t,t.dtype"
   ]
  },
  {
   "cell_type": "code",
   "execution_count": 12,
   "id": "15c8a04f",
   "metadata": {},
   "outputs": [
    {
     "data": {
      "text/plain": [
       "tensor([[0.0921, 0.4347, 0.1559],\n",
       "        [0.6315, 0.8638, 0.9918]])"
      ]
     },
     "execution_count": 12,
     "metadata": {},
     "output_type": "execute_result"
    }
   ],
   "source": [
    "torch.rand(2,3) # rand 0-1之间"
   ]
  },
  {
   "cell_type": "code",
   "execution_count": 13,
   "id": "c6a18fc7",
   "metadata": {},
   "outputs": [],
   "source": [
    "t = torch.randn(2,3) # 随机"
   ]
  },
  {
   "cell_type": "code",
   "execution_count": 14,
   "id": "8ae90291",
   "metadata": {},
   "outputs": [
    {
     "data": {
      "text/plain": [
       "torch.Size([2, 3])"
      ]
     },
     "execution_count": 14,
     "metadata": {},
     "output_type": "execute_result"
    }
   ],
   "source": [
    "t.shape"
   ]
  },
  {
   "cell_type": "code",
   "execution_count": 15,
   "id": "feb5b678",
   "metadata": {},
   "outputs": [
    {
     "data": {
      "text/plain": [
       "tensor([[0., 0., 0., 0.],\n",
       "        [0., 0., 0., 0.],\n",
       "        [0., 0., 0., 0.]])"
      ]
     },
     "execution_count": 15,
     "metadata": {},
     "output_type": "execute_result"
    }
   ],
   "source": [
    "torch.zeros(3,4) # 全0"
   ]
  },
  {
   "cell_type": "code",
   "execution_count": 16,
   "id": "1bb4d3d5",
   "metadata": {},
   "outputs": [
    {
     "data": {
      "text/plain": [
       "tensor([[1., 1., 1.],\n",
       "        [1., 1., 1.],\n",
       "        [1., 1., 1.]])"
      ]
     },
     "execution_count": 16,
     "metadata": {},
     "output_type": "execute_result"
    }
   ],
   "source": [
    "torch.ones(3,3) # 全1"
   ]
  },
  {
   "cell_type": "code",
   "execution_count": 17,
   "id": "82da45dd",
   "metadata": {},
   "outputs": [
    {
     "data": {
      "text/plain": [
       "tensor([[-0.1824,  1.2702,  0.5098],\n",
       "        [-0.7375,  1.0299, -3.1596]])"
      ]
     },
     "execution_count": 17,
     "metadata": {},
     "output_type": "execute_result"
    }
   ],
   "source": [
    "t"
   ]
  },
  {
   "cell_type": "code",
   "execution_count": 18,
   "id": "17e6d8f6",
   "metadata": {},
   "outputs": [],
   "source": [
    "x = torch.zeros_like(t)"
   ]
  },
  {
   "cell_type": "code",
   "execution_count": null,
   "id": "e441f546",
   "metadata": {},
   "outputs": [],
   "source": []
  },
  {
   "cell_type": "code",
   "execution_count": 19,
   "id": "ef65c332",
   "metadata": {},
   "outputs": [
    {
     "data": {
      "text/plain": [
       "tensor([[0., 0., 0.],\n",
       "        [0., 0., 0.]])"
      ]
     },
     "execution_count": 19,
     "metadata": {},
     "output_type": "execute_result"
    }
   ],
   "source": [
    "x"
   ]
  },
  {
   "cell_type": "code",
   "execution_count": 20,
   "id": "981c137d",
   "metadata": {},
   "outputs": [
    {
     "data": {
      "text/plain": [
       "torch.Size([2, 3])"
      ]
     },
     "execution_count": 20,
     "metadata": {},
     "output_type": "execute_result"
    }
   ],
   "source": [
    "x.shape"
   ]
  },
  {
   "cell_type": "code",
   "execution_count": 21,
   "id": "fa77b85c",
   "metadata": {},
   "outputs": [
    {
     "data": {
      "text/plain": [
       "torch.Size([2, 3])"
      ]
     },
     "execution_count": 21,
     "metadata": {},
     "output_type": "execute_result"
    }
   ],
   "source": [
    "x.size() # 可以返回某一个维度大小"
   ]
  },
  {
   "cell_type": "code",
   "execution_count": 22,
   "id": "31d9b477",
   "metadata": {},
   "outputs": [
    {
     "data": {
      "text/plain": [
       "3"
      ]
     },
     "execution_count": 22,
     "metadata": {},
     "output_type": "execute_result"
    }
   ],
   "source": [
    "x.size(1) # 1维度大小"
   ]
  },
  {
   "cell_type": "code",
   "execution_count": 23,
   "id": "2d5d535b",
   "metadata": {},
   "outputs": [
    {
     "data": {
      "text/plain": [
       "2"
      ]
     },
     "execution_count": 23,
     "metadata": {},
     "output_type": "execute_result"
    }
   ],
   "source": [
    "x.size(0) # 第0维度"
   ]
  },
  {
   "cell_type": "code",
   "execution_count": 24,
   "id": "fd5a7e28",
   "metadata": {},
   "outputs": [
    {
     "data": {
      "text/plain": [
       "device(type='cpu')"
      ]
     },
     "execution_count": 24,
     "metadata": {},
     "output_type": "execute_result"
    }
   ],
   "source": [
    "x.device # tensor当前在哪里"
   ]
  },
  {
   "cell_type": "code",
   "execution_count": 25,
   "id": "67492d70",
   "metadata": {},
   "outputs": [
    {
     "data": {
      "text/plain": [
       "False"
      ]
     },
     "execution_count": 25,
     "metadata": {},
     "output_type": "execute_result"
    }
   ],
   "source": [
    "torch.cuda.is_available() # 判断显卡时候可用"
   ]
  },
  {
   "cell_type": "code",
   "execution_count": 26,
   "id": "bc69023a",
   "metadata": {},
   "outputs": [],
   "source": [
    "# t.to('cuda') 放到显存上"
   ]
  },
  {
   "cell_type": "code",
   "execution_count": 27,
   "id": "61673ac5",
   "metadata": {},
   "outputs": [],
   "source": [
    "tt = torch.rand(3,4)"
   ]
  },
  {
   "cell_type": "code",
   "execution_count": 28,
   "id": "173635e8",
   "metadata": {},
   "outputs": [
    {
     "data": {
      "text/plain": [
       "tensor([[0.1500, 0.1276, 0.3970, 0.8986],\n",
       "        [0.5840, 0.9377, 0.1080, 0.0481],\n",
       "        [0.4113, 0.2531, 0.9667, 0.9926]])"
      ]
     },
     "execution_count": 28,
     "metadata": {},
     "output_type": "execute_result"
    }
   ],
   "source": [
    "tt"
   ]
  },
  {
   "cell_type": "code",
   "execution_count": 29,
   "id": "d2260520",
   "metadata": {},
   "outputs": [
    {
     "data": {
      "text/plain": [
       "torch.float32"
      ]
     },
     "execution_count": 29,
     "metadata": {},
     "output_type": "execute_result"
    }
   ],
   "source": [
    "tt.dtype"
   ]
  },
  {
   "cell_type": "code",
   "execution_count": 30,
   "id": "f4c114e6",
   "metadata": {},
   "outputs": [],
   "source": [
    "tt = tt.int()"
   ]
  },
  {
   "cell_type": "code",
   "execution_count": 31,
   "id": "4567ecbf",
   "metadata": {},
   "outputs": [
    {
     "data": {
      "text/plain": [
       "torch.int32"
      ]
     },
     "execution_count": 31,
     "metadata": {},
     "output_type": "execute_result"
    }
   ],
   "source": [
    "tt.dtype"
   ]
  },
  {
   "cell_type": "code",
   "execution_count": 32,
   "id": "eaafe550",
   "metadata": {},
   "outputs": [],
   "source": [
    "t1 = torch.ones(3,3)"
   ]
  },
  {
   "cell_type": "code",
   "execution_count": 33,
   "id": "67d0286c",
   "metadata": {},
   "outputs": [
    {
     "data": {
      "text/plain": [
       "tensor([[1., 1., 1.],\n",
       "        [1., 1., 1.],\n",
       "        [1., 1., 1.]])"
      ]
     },
     "execution_count": 33,
     "metadata": {},
     "output_type": "execute_result"
    }
   ],
   "source": [
    "t1"
   ]
  },
  {
   "cell_type": "code",
   "execution_count": 34,
   "id": "6633384c",
   "metadata": {},
   "outputs": [
    {
     "data": {
      "text/plain": [
       "tensor([[2., 2., 2.],\n",
       "        [2., 2., 2.],\n",
       "        [2., 2., 2.]])"
      ]
     },
     "execution_count": 34,
     "metadata": {},
     "output_type": "execute_result"
    }
   ],
   "source": [
    "t1 + 1"
   ]
  },
  {
   "cell_type": "code",
   "execution_count": 35,
   "id": "6360fefa",
   "metadata": {},
   "outputs": [
    {
     "data": {
      "text/plain": [
       "tensor([[2., 2., 2.],\n",
       "        [2., 2., 2.],\n",
       "        [2., 2., 2.]])"
      ]
     },
     "execution_count": 35,
     "metadata": {},
     "output_type": "execute_result"
    }
   ],
   "source": [
    "t1 + t1"
   ]
  },
  {
   "cell_type": "code",
   "execution_count": 36,
   "id": "7e0b75a7",
   "metadata": {},
   "outputs": [
    {
     "data": {
      "text/plain": [
       "tensor([[2., 2., 2.],\n",
       "        [2., 2., 2.],\n",
       "        [2., 2., 2.]])"
      ]
     },
     "execution_count": 36,
     "metadata": {},
     "output_type": "execute_result"
    }
   ],
   "source": [
    "t1.add(1)"
   ]
  },
  {
   "cell_type": "code",
   "execution_count": 37,
   "id": "86250bde",
   "metadata": {},
   "outputs": [
    {
     "data": {
      "text/plain": [
       "tensor([[1., 1., 1.],\n",
       "        [1., 1., 1.],\n",
       "        [1., 1., 1.]])"
      ]
     },
     "execution_count": 37,
     "metadata": {},
     "output_type": "execute_result"
    }
   ],
   "source": [
    "t1"
   ]
  },
  {
   "cell_type": "code",
   "execution_count": 38,
   "id": "097b4ff6",
   "metadata": {},
   "outputs": [
    {
     "data": {
      "text/plain": [
       "tensor([[1., 1., 1.],\n",
       "        [1., 1., 1.],\n",
       "        [1., 1., 1.]])"
      ]
     },
     "execution_count": 38,
     "metadata": {},
     "output_type": "execute_result"
    }
   ],
   "source": [
    "t1"
   ]
  },
  {
   "cell_type": "code",
   "execution_count": 39,
   "id": "8b8ed313",
   "metadata": {},
   "outputs": [
    {
     "data": {
      "text/plain": [
       "tensor([[1., 1., 1.],\n",
       "        [1., 1., 1.],\n",
       "        [1., 1., 1.]])"
      ]
     },
     "execution_count": 39,
     "metadata": {},
     "output_type": "execute_result"
    }
   ],
   "source": [
    "torch.abs(t1)\n",
    "t1"
   ]
  },
  {
   "cell_type": "code",
   "execution_count": 40,
   "id": "6fae125a",
   "metadata": {},
   "outputs": [
    {
     "data": {
      "text/plain": [
       "tensor(1.)"
      ]
     },
     "execution_count": 40,
     "metadata": {},
     "output_type": "execute_result"
    }
   ],
   "source": [
    "max_num = torch.max(t1)\n",
    "max_num"
   ]
  },
  {
   "cell_type": "code",
   "execution_count": 41,
   "id": "02357f3f",
   "metadata": {},
   "outputs": [
    {
     "data": {
      "text/plain": [
       "tensor([[0.3719, 0.7445, 0.7933],\n",
       "        [0.8190, 0.0017, 0.1378]])"
      ]
     },
     "execution_count": 41,
     "metadata": {},
     "output_type": "execute_result"
    }
   ],
   "source": [
    "t2 = torch.rand(2,3)\n",
    "t2"
   ]
  },
  {
   "cell_type": "code",
   "execution_count": 42,
   "id": "381cdc59",
   "metadata": {},
   "outputs": [
    {
     "data": {
      "text/plain": [
       "tensor([[0.3719, 0.8190],\n",
       "        [0.7445, 0.0017],\n",
       "        [0.7933, 0.1378]])"
      ]
     },
     "execution_count": 42,
     "metadata": {},
     "output_type": "execute_result"
    }
   ],
   "source": [
    "t2.T"
   ]
  },
  {
   "cell_type": "code",
   "execution_count": 43,
   "id": "7e0363d6",
   "metadata": {},
   "outputs": [
    {
     "data": {
      "text/plain": [
       "0.819044291973114"
      ]
     },
     "execution_count": 43,
     "metadata": {},
     "output_type": "execute_result"
    }
   ],
   "source": [
    "t2.max().item()"
   ]
  },
  {
   "cell_type": "code",
   "execution_count": 44,
   "id": "62733c6b",
   "metadata": {},
   "outputs": [],
   "source": [
    "# 自动微分"
   ]
  },
  {
   "cell_type": "code",
   "execution_count": 45,
   "id": "7b69504e",
   "metadata": {},
   "outputs": [
    {
     "data": {
      "text/plain": [
       "tensor([[ 1.9244, -1.2383,  0.9217, -0.6905, -0.9240, -1.1435],\n",
       "        [-0.2059,  0.2598, -0.9278,  0.3797, -0.5989,  1.4222],\n",
       "        [-0.0178,  0.3477,  0.1377, -0.0090,  0.0074,  1.1803],\n",
       "        [-1.5320,  1.3458, -0.5281, -0.3663,  0.1113,  1.8228]])"
      ]
     },
     "execution_count": 45,
     "metadata": {},
     "output_type": "execute_result"
    }
   ],
   "source": [
    "t6 = torch.randn(4,6)\n",
    "t6"
   ]
  },
  {
   "cell_type": "code",
   "execution_count": 46,
   "id": "69d567ff",
   "metadata": {},
   "outputs": [
    {
     "data": {
      "text/plain": [
       "tensor([[ 1.9244, -1.2383,  0.9217, -0.6905, -0.9240, -1.1435, -0.2059,  0.2598,\n",
       "         -0.9278,  0.3797, -0.5989,  1.4222],\n",
       "        [-0.0178,  0.3477,  0.1377, -0.0090,  0.0074,  1.1803, -1.5320,  1.3458,\n",
       "         -0.5281, -0.3663,  0.1113,  1.8228]])"
      ]
     },
     "execution_count": 46,
     "metadata": {},
     "output_type": "execute_result"
    }
   ],
   "source": [
    "t7 = t6.view(2,12)\n",
    "t7"
   ]
  },
  {
   "cell_type": "code",
   "execution_count": 47,
   "id": "f7d29400",
   "metadata": {},
   "outputs": [
    {
     "data": {
      "text/plain": [
       "tensor([[1.],\n",
       "        [1.],\n",
       "        [1.],\n",
       "        [1.],\n",
       "        [1.],\n",
       "        [1.],\n",
       "        [1.],\n",
       "        [1.],\n",
       "        [1.],\n",
       "        [1.],\n",
       "        [1.],\n",
       "        [1.]])"
      ]
     },
     "execution_count": 47,
     "metadata": {},
     "output_type": "execute_result"
    }
   ],
   "source": [
    "ttt = torch.ones(12,1)\n",
    "ttt1 = torch.ones(1,12)\n",
    "ttt.shape\n",
    "ttt"
   ]
  },
  {
   "cell_type": "code",
   "execution_count": 48,
   "id": "f084b99e",
   "metadata": {},
   "outputs": [
    {
     "data": {
      "text/plain": [
       "torch.Size([1, 12])"
      ]
     },
     "execution_count": 48,
     "metadata": {},
     "output_type": "execute_result"
    }
   ],
   "source": [
    "ttt1.shape"
   ]
  },
  {
   "cell_type": "code",
   "execution_count": 49,
   "id": "c458dff1",
   "metadata": {},
   "outputs": [
    {
     "data": {
      "text/plain": [
       "tensor([[1., 1., 1., 1., 1., 1., 1., 1., 1., 1., 1., 1.]])"
      ]
     },
     "execution_count": 49,
     "metadata": {},
     "output_type": "execute_result"
    }
   ],
   "source": [
    "ttt1"
   ]
  },
  {
   "cell_type": "code",
   "execution_count": 50,
   "id": "67a922e0",
   "metadata": {},
   "outputs": [
    {
     "data": {
      "text/plain": [
       "tensor([[1.],\n",
       "        [1.],\n",
       "        [1.],\n",
       "        [1.],\n",
       "        [1.],\n",
       "        [1.],\n",
       "        [1.],\n",
       "        [1.],\n",
       "        [1.],\n",
       "        [1.],\n",
       "        [1.],\n",
       "        [1.]])"
      ]
     },
     "execution_count": 50,
     "metadata": {},
     "output_type": "execute_result"
    }
   ],
   "source": [
    "tv = ttt1.view(-1,1) # 变成一列\n",
    "\n",
    "tv"
   ]
  },
  {
   "cell_type": "code",
   "execution_count": 51,
   "id": "17a30d58",
   "metadata": {},
   "outputs": [
    {
     "data": {
      "text/plain": [
       "torch.Size([12])"
      ]
     },
     "execution_count": 51,
     "metadata": {},
     "output_type": "execute_result"
    }
   ],
   "source": [
    "tv.squeeze().shape"
   ]
  },
  {
   "cell_type": "code",
   "execution_count": 52,
   "id": "c624b516",
   "metadata": {},
   "outputs": [
    {
     "data": {
      "text/plain": [
       "torch.Size([12, 1])"
      ]
     },
     "execution_count": 52,
     "metadata": {},
     "output_type": "execute_result"
    }
   ],
   "source": [
    "tv.shape"
   ]
  },
  {
   "cell_type": "code",
   "execution_count": 53,
   "id": "d1364a38",
   "metadata": {},
   "outputs": [],
   "source": [
    "tg = torch.ones(3,3,requires_grad = True)"
   ]
  },
  {
   "cell_type": "code",
   "execution_count": 54,
   "id": "d2daeb6f",
   "metadata": {},
   "outputs": [],
   "source": [
    "ty = tg + 1"
   ]
  },
  {
   "cell_type": "code",
   "execution_count": 55,
   "id": "6d7237cf",
   "metadata": {},
   "outputs": [
    {
     "data": {
      "text/plain": [
       "<AddBackward0 at 0x16217ae8e08>"
      ]
     },
     "execution_count": 55,
     "metadata": {},
     "output_type": "execute_result"
    }
   ],
   "source": [
    "ty.grad_fn"
   ]
  },
  {
   "cell_type": "code",
   "execution_count": 56,
   "id": "a279a5f4",
   "metadata": {},
   "outputs": [],
   "source": [
    "ty = ty * 2"
   ]
  },
  {
   "cell_type": "code",
   "execution_count": 57,
   "id": "b1031ec7",
   "metadata": {},
   "outputs": [
    {
     "data": {
      "text/plain": [
       "tensor([[4., 4., 4.],\n",
       "        [4., 4., 4.],\n",
       "        [4., 4., 4.]], grad_fn=<MulBackward0>)"
      ]
     },
     "execution_count": 57,
     "metadata": {},
     "output_type": "execute_result"
    }
   ],
   "source": [
    "ty"
   ]
  },
  {
   "cell_type": "code",
   "execution_count": 58,
   "id": "5298bd91",
   "metadata": {},
   "outputs": [
    {
     "data": {
      "text/plain": [
       "<MulBackward0 at 0x16217ae8a08>"
      ]
     },
     "execution_count": 58,
     "metadata": {},
     "output_type": "execute_result"
    }
   ],
   "source": [
    "ty.grad_fn"
   ]
  },
  {
   "cell_type": "code",
   "execution_count": 59,
   "id": "31b6c23f",
   "metadata": {},
   "outputs": [],
   "source": [
    "out = ty.mean()"
   ]
  },
  {
   "cell_type": "code",
   "execution_count": 60,
   "id": "5b9e42da",
   "metadata": {},
   "outputs": [
    {
     "data": {
      "text/plain": [
       "tensor(4., grad_fn=<MeanBackward0>)"
      ]
     },
     "execution_count": 60,
     "metadata": {},
     "output_type": "execute_result"
    }
   ],
   "source": [
    "out"
   ]
  },
  {
   "cell_type": "code",
   "execution_count": 61,
   "id": "0d5a9916",
   "metadata": {},
   "outputs": [],
   "source": [
    "out.backward()"
   ]
  },
  {
   "cell_type": "code",
   "execution_count": 62,
   "id": "ec1a90aa",
   "metadata": {},
   "outputs": [
    {
     "data": {
      "text/plain": [
       "tensor([[0.2222, 0.2222, 0.2222],\n",
       "        [0.2222, 0.2222, 0.2222],\n",
       "        [0.2222, 0.2222, 0.2222]])"
      ]
     },
     "execution_count": 62,
     "metadata": {},
     "output_type": "execute_result"
    }
   ],
   "source": [
    "tg.grad # 计算梯度"
   ]
  },
  {
   "cell_type": "code",
   "execution_count": 71,
   "id": "44812d29",
   "metadata": {},
   "outputs": [
    {
     "data": {
      "text/plain": [
       "array([[ 0,  1,  2,  3],\n",
       "       [ 4,  5,  6,  7],\n",
       "       [ 8,  9, 10, 11]])"
      ]
     },
     "execution_count": 71,
     "metadata": {},
     "output_type": "execute_result"
    }
   ],
   "source": [
    "a = np.array([[1, 2, 3], [4, 5, 6]])\n",
    "b = np.arange(12).reshape(3,4) # 0-11\n",
    "b"
   ]
  },
  {
   "cell_type": "code",
   "execution_count": 72,
   "id": "3334ee5d",
   "metadata": {},
   "outputs": [
    {
     "data": {
      "text/plain": [
       "tensor([[1., 1., 1.],\n",
       "        [1., 1., 1.],\n",
       "        [1., 1., 1.]])"
      ]
     },
     "execution_count": 72,
     "metadata": {},
     "output_type": "execute_result"
    }
   ],
   "source": [
    "tg.data"
   ]
  },
  {
   "cell_type": "code",
   "execution_count": 74,
   "id": "7eb106c7",
   "metadata": {},
   "outputs": [
    {
     "data": {
      "text/plain": [
       "tensor([[1., 1., 1.],\n",
       "        [1., 1., 1.],\n",
       "        [1., 1., 1.]], requires_grad=True)"
      ]
     },
     "execution_count": 74,
     "metadata": {},
     "output_type": "execute_result"
    }
   ],
   "source": [
    "t_g = torch.ones(3,3,requires_grad = True)\n",
    "t_g"
   ]
  },
  {
   "cell_type": "code",
   "execution_count": 79,
   "id": "8f84727a",
   "metadata": {},
   "outputs": [
    {
     "data": {
      "text/plain": [
       "tensor(9., grad_fn=<SumBackward0>)"
      ]
     },
     "execution_count": 79,
     "metadata": {},
     "output_type": "execute_result"
    }
   ],
   "source": [
    "t_sum = t_g.sum()\n",
    "t_sum"
   ]
  },
  {
   "cell_type": "code",
   "execution_count": 80,
   "id": "52a66e15",
   "metadata": {},
   "outputs": [
    {
     "data": {
      "text/plain": [
       "<SumBackward0 at 0x16219db5e88>"
      ]
     },
     "execution_count": 80,
     "metadata": {},
     "output_type": "execute_result"
    }
   ],
   "source": [
    "t_sum.grad_fn # 如何得到的 function"
   ]
  },
  {
   "cell_type": "code",
   "execution_count": 84,
   "id": "4b41852a",
   "metadata": {},
   "outputs": [],
   "source": [
    "t_sum.backward() # 反向传播"
   ]
  },
  {
   "cell_type": "code",
   "execution_count": 85,
   "id": "79b9e0f6",
   "metadata": {},
   "outputs": [
    {
     "data": {
      "text/plain": [
       "tensor([[1., 1., 1.],\n",
       "        [1., 1., 1.],\n",
       "        [1., 1., 1.]])"
      ]
     },
     "execution_count": 85,
     "metadata": {},
     "output_type": "execute_result"
    }
   ],
   "source": [
    "t_g.grad # 计算梯度"
   ]
  },
  {
   "cell_type": "code",
   "execution_count": 86,
   "id": "e653fbcf",
   "metadata": {},
   "outputs": [
    {
     "name": "stdout",
     "output_type": "stream",
     "text": [
      "False\n"
     ]
    }
   ],
   "source": [
    "with torch.no_grad():\n",
    "    y = t_sum + 1\n",
    "    print(y.requires_grad)"
   ]
  },
  {
   "cell_type": "code",
   "execution_count": 91,
   "id": "2884dc61",
   "metadata": {},
   "outputs": [],
   "source": [
    "new= t_g.detach() # 截断跟踪"
   ]
  },
  {
   "cell_type": "code",
   "execution_count": 93,
   "id": "72b687c9",
   "metadata": {},
   "outputs": [
    {
     "data": {
      "text/plain": [
       "False"
      ]
     },
     "execution_count": 93,
     "metadata": {},
     "output_type": "execute_result"
    }
   ],
   "source": [
    "new.requires_grad"
   ]
  },
  {
   "cell_type": "code",
   "execution_count": 95,
   "id": "a5cf8f3b",
   "metadata": {},
   "outputs": [],
   "source": [
    "new_add = new + 1"
   ]
  },
  {
   "cell_type": "code",
   "execution_count": 96,
   "id": "61fae1d0",
   "metadata": {},
   "outputs": [
    {
     "data": {
      "text/plain": [
       "False"
      ]
     },
     "execution_count": 96,
     "metadata": {},
     "output_type": "execute_result"
    }
   ],
   "source": [
    "new_add.requires_grad"
   ]
  },
  {
   "cell_type": "code",
   "execution_count": null,
   "id": "8d679bae",
   "metadata": {},
   "outputs": [],
   "source": []
  },
  {
   "cell_type": "code",
   "execution_count": null,
   "id": "645d786a",
   "metadata": {},
   "outputs": [],
   "source": []
  },
  {
   "cell_type": "code",
   "execution_count": null,
   "id": "e8c20f00",
   "metadata": {},
   "outputs": [],
   "source": []
  },
  {
   "cell_type": "code",
   "execution_count": null,
   "id": "cd2f1163",
   "metadata": {},
   "outputs": [],
   "source": []
  },
  {
   "cell_type": "code",
   "execution_count": null,
   "id": "77caaf46",
   "metadata": {},
   "outputs": [],
   "source": []
  }
 ],
 "metadata": {
  "kernelspec": {
   "display_name": "m_pytorch",
   "language": "python",
   "name": "m_pytorch"
  },
  "language_info": {
   "codemirror_mode": {
    "name": "ipython",
    "version": 3
   },
   "file_extension": ".py",
   "mimetype": "text/x-python",
   "name": "python",
   "nbconvert_exporter": "python",
   "pygments_lexer": "ipython3",
   "version": "3.7.13"
  }
 },
 "nbformat": 4,
 "nbformat_minor": 5
}
